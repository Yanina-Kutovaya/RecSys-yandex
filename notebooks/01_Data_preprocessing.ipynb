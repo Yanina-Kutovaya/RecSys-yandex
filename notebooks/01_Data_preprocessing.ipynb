{
  "nbformat": 4,
  "nbformat_minor": 0,
  "metadata": {
    "colab": {
      "provenance": [],
      "collapsed_sections": [],
      "mount_file_id": "1c1_rW0kPDYya4SL5nCSEBsmICPiHD78z",
      "authorship_tag": "ABX9TyP/6Te+uJzkgHoQMB5B82Nu",
      "include_colab_link": true
    },
    "kernelspec": {
      "name": "python3",
      "display_name": "Python 3"
    },
    "language_info": {
      "name": "python"
    },
    "accelerator": "GPU"
  },
  "cells": [
    {
      "cell_type": "markdown",
      "metadata": {
        "id": "view-in-github",
        "colab_type": "text"
      },
      "source": [
        "<a href=\"https://colab.research.google.com/github/Yanina-Kutovaya/RecSys-yandex/blob/main/notebooks/01_Data_preprocessing.ipynb\" target=\"_parent\"><img src=\"https://colab.research.google.com/assets/colab-badge.svg\" alt=\"Open In Colab\"/></a>"
      ]
    },
    {
      "cell_type": "markdown",
      "source": [
        "# Yandex Cup 2022 - ML RecSys\n"
      ],
      "metadata": {
        "id": "cSw2sLnlSbw5"
      }
    },
    {
      "cell_type": "markdown",
      "source": [
        "## A. Like prediction\n",
        "An important task of music recommendations is to find tracks unknown to the user that he will like. Models that analyze explicit user feedback play an important role in solving this problem. \n",
        "Likes or dislikes placed on a track are consederd as user's explicit feedback.\n",
        "\n",
        "Actions such as play and skip are also used in recommendations, but they provide less information about the user's preferences. Moreover, it is far more important to find a track that the user will like than a track that the user will simply listen to. \n",
        "\n",
        "The requirement of this task is to predict the next track that the user will like based on previous likes.\n",
        "\n",
        "## Input format\n",
        "The data is provided at the link https://disk.yandex.ru/d/SI1aAooPn9i8TA\n",
        "\n",
        "There are three files in the likes_data.zip archive:\n",
        "* train - training dataset. Each line is a sequence of track id's that one user has liked. It is guaranteed that likes are given in the order in which they were put by the user.\n",
        "* test - test dataset. It has exactly the same format, but each line lacks the last like to be predicted.\n",
        "* track_artists.csv - information about track artists. It is guaranteed that each track has exactly one artist. For tracks that actually have multiple artists, the one that is considered to be the main artist of the track has been left.\n",
        "\n",
        "## Output format\n",
        "As a solution, a file with no more than 100 tracks on a line for each user \n",
        "should be provided\n",
        "\n",
        "## Notes\n",
        "MRR@100 is used as the metric"
      ],
      "metadata": {
        "id": "sVopTrLsTis9"
      }
    },
    {
      "cell_type": "code",
      "source": [
        "from google.colab import drive\n",
        "drive.mount('/content/drive')"
      ],
      "metadata": {
        "colab": {
          "base_uri": "https://localhost:8080/"
        },
        "id": "Soy_3MUdCMJ1",
        "outputId": "ca82859b-8aa4-4cea-b325-02686e9a2cd8"
      },
      "execution_count": 1,
      "outputs": [
        {
          "output_type": "stream",
          "name": "stdout",
          "text": [
            "Drive already mounted at /content/drive; to attempt to forcibly remount, call drive.mount(\"/content/drive\", force_remount=True).\n"
          ]
        }
      ]
    },
    {
      "cell_type": "code",
      "source": [
        "!unzip /content/drive/MyDrive/ML_projects/recsys_yandex/data/01_raw_data/likes_data.zip"
      ],
      "metadata": {
        "colab": {
          "base_uri": "https://localhost:8080/"
        },
        "id": "hU8xW3DlCUIn",
        "outputId": "4a3f395e-8427-4579-b00c-d68b08b182e4"
      },
      "execution_count": 2,
      "outputs": [
        {
          "output_type": "stream",
          "name": "stdout",
          "text": [
            "Archive:  /content/drive/MyDrive/ML_projects/recsys_yandex/data/01_raw_data/likes_data.zip\n",
            "  inflating: test                    \n",
            "  inflating: __MACOSX/._test         \n",
            "  inflating: track_artists.csv       \n",
            "  inflating: train                   \n",
            "  inflating: __MACOSX/._train        \n"
          ]
        }
      ]
    },
    {
      "cell_type": "markdown",
      "source": [
        "## Data preprocessing"
      ],
      "metadata": {
        "id": "hkmihatHfpbn"
      }
    },
    {
      "cell_type": "code",
      "source": [
        "import pandas as pd\n",
        "\n",
        "def preprocess_data(\n",
        "    data_path = 'train',\n",
        "    track_artists_path = 'track_artists.csv',\n",
        "    output_path = 'train_preprocessed.parquet.gzip'\n",
        "  ):\n",
        "  df = pd.read_csv(track_artists_path).values\n",
        "  with open(data_path) as f:\n",
        "      lines = f.readlines()      \n",
        "      seq_length = []\n",
        "      product_ids = []\n",
        "      category_ids = []\n",
        "      for line in lines:\n",
        "        track = line.strip().split(' ')\n",
        "        product_id = [int(id) for id in track]\n",
        "        category_id = df[product_id, 1].tolist()\n",
        "      \n",
        "        seq_length.append(len(track))\n",
        "        product_ids.append(product_id)\n",
        "        category_ids.append(category_id)\n",
        "\n",
        "      pd.DataFrame(\n",
        "          zip(seq_length, product_ids, category_ids), \n",
        "          columns=['seq_len', 'product_id', 'category_id']\n",
        "      ).to_parquet(output_path, compression='gzip')"
      ],
      "metadata": {
        "id": "oMX9zVnhqmKc"
      },
      "execution_count": 3,
      "outputs": []
    },
    {
      "cell_type": "code",
      "source": [
        "preprocess_data(data_path='train', output_path='train_preprocessed.parquet.gzip')"
      ],
      "metadata": {
        "id": "gJWHSGc_zU8l"
      },
      "execution_count": 4,
      "outputs": []
    },
    {
      "cell_type": "code",
      "source": [
        "preprocess_data(data_path='test', output_path='test_preprocessed.parquet.gzip')"
      ],
      "metadata": {
        "id": "L28sz1n72AcV"
      },
      "execution_count": 5,
      "outputs": []
    },
    {
      "cell_type": "code",
      "source": [
        "train = pd.read_parquet('train_preprocessed.parquet.gzip')\n",
        "\n",
        "print(f'train.shape = {train.shape}\\n')\n",
        "train.head(2)"
      ],
      "metadata": {
        "colab": {
          "base_uri": "https://localhost:8080/",
          "height": 147
        },
        "id": "hZa8USEexpIZ",
        "outputId": "4d36d729-0063-4ea9-a86f-3ebab186527e"
      },
      "execution_count": 6,
      "outputs": [
        {
          "output_type": "stream",
          "name": "stdout",
          "text": [
            "train.shape = (1160084, 3)\n",
            "\n"
          ]
        },
        {
          "output_type": "execute_result",
          "data": {
            "text/plain": [
              "   seq_len                                         product_id  \\\n",
              "0       54  [333396, 267089, 155959, 353335, 414000, 33998...   \n",
              "1       10  [174197, 335779, 141676, 119856, 376664, 31175...   \n",
              "\n",
              "                                         category_id  \n",
              "0  [37399, 52345, 25987, 55650, 23545, 13408, 446...  \n",
              "1  [21355, 41149, 39683, 30298, 18426, 51447, 114...  "
            ],
            "text/html": [
              "\n",
              "  <div id=\"df-aaf40ad1-d603-49c0-acc7-1f0f92a23ace\">\n",
              "    <div class=\"colab-df-container\">\n",
              "      <div>\n",
              "<style scoped>\n",
              "    .dataframe tbody tr th:only-of-type {\n",
              "        vertical-align: middle;\n",
              "    }\n",
              "\n",
              "    .dataframe tbody tr th {\n",
              "        vertical-align: top;\n",
              "    }\n",
              "\n",
              "    .dataframe thead th {\n",
              "        text-align: right;\n",
              "    }\n",
              "</style>\n",
              "<table border=\"1\" class=\"dataframe\">\n",
              "  <thead>\n",
              "    <tr style=\"text-align: right;\">\n",
              "      <th></th>\n",
              "      <th>seq_len</th>\n",
              "      <th>product_id</th>\n",
              "      <th>category_id</th>\n",
              "    </tr>\n",
              "  </thead>\n",
              "  <tbody>\n",
              "    <tr>\n",
              "      <th>0</th>\n",
              "      <td>54</td>\n",
              "      <td>[333396, 267089, 155959, 353335, 414000, 33998...</td>\n",
              "      <td>[37399, 52345, 25987, 55650, 23545, 13408, 446...</td>\n",
              "    </tr>\n",
              "    <tr>\n",
              "      <th>1</th>\n",
              "      <td>10</td>\n",
              "      <td>[174197, 335779, 141676, 119856, 376664, 31175...</td>\n",
              "      <td>[21355, 41149, 39683, 30298, 18426, 51447, 114...</td>\n",
              "    </tr>\n",
              "  </tbody>\n",
              "</table>\n",
              "</div>\n",
              "      <button class=\"colab-df-convert\" onclick=\"convertToInteractive('df-aaf40ad1-d603-49c0-acc7-1f0f92a23ace')\"\n",
              "              title=\"Convert this dataframe to an interactive table.\"\n",
              "              style=\"display:none;\">\n",
              "        \n",
              "  <svg xmlns=\"http://www.w3.org/2000/svg\" height=\"24px\"viewBox=\"0 0 24 24\"\n",
              "       width=\"24px\">\n",
              "    <path d=\"M0 0h24v24H0V0z\" fill=\"none\"/>\n",
              "    <path d=\"M18.56 5.44l.94 2.06.94-2.06 2.06-.94-2.06-.94-.94-2.06-.94 2.06-2.06.94zm-11 1L8.5 8.5l.94-2.06 2.06-.94-2.06-.94L8.5 2.5l-.94 2.06-2.06.94zm10 10l.94 2.06.94-2.06 2.06-.94-2.06-.94-.94-2.06-.94 2.06-2.06.94z\"/><path d=\"M17.41 7.96l-1.37-1.37c-.4-.4-.92-.59-1.43-.59-.52 0-1.04.2-1.43.59L10.3 9.45l-7.72 7.72c-.78.78-.78 2.05 0 2.83L4 21.41c.39.39.9.59 1.41.59.51 0 1.02-.2 1.41-.59l7.78-7.78 2.81-2.81c.8-.78.8-2.07 0-2.86zM5.41 20L4 18.59l7.72-7.72 1.47 1.35L5.41 20z\"/>\n",
              "  </svg>\n",
              "      </button>\n",
              "      \n",
              "  <style>\n",
              "    .colab-df-container {\n",
              "      display:flex;\n",
              "      flex-wrap:wrap;\n",
              "      gap: 12px;\n",
              "    }\n",
              "\n",
              "    .colab-df-convert {\n",
              "      background-color: #E8F0FE;\n",
              "      border: none;\n",
              "      border-radius: 50%;\n",
              "      cursor: pointer;\n",
              "      display: none;\n",
              "      fill: #1967D2;\n",
              "      height: 32px;\n",
              "      padding: 0 0 0 0;\n",
              "      width: 32px;\n",
              "    }\n",
              "\n",
              "    .colab-df-convert:hover {\n",
              "      background-color: #E2EBFA;\n",
              "      box-shadow: 0px 1px 2px rgba(60, 64, 67, 0.3), 0px 1px 3px 1px rgba(60, 64, 67, 0.15);\n",
              "      fill: #174EA6;\n",
              "    }\n",
              "\n",
              "    [theme=dark] .colab-df-convert {\n",
              "      background-color: #3B4455;\n",
              "      fill: #D2E3FC;\n",
              "    }\n",
              "\n",
              "    [theme=dark] .colab-df-convert:hover {\n",
              "      background-color: #434B5C;\n",
              "      box-shadow: 0px 1px 3px 1px rgba(0, 0, 0, 0.15);\n",
              "      filter: drop-shadow(0px 1px 2px rgba(0, 0, 0, 0.3));\n",
              "      fill: #FFFFFF;\n",
              "    }\n",
              "  </style>\n",
              "\n",
              "      <script>\n",
              "        const buttonEl =\n",
              "          document.querySelector('#df-aaf40ad1-d603-49c0-acc7-1f0f92a23ace button.colab-df-convert');\n",
              "        buttonEl.style.display =\n",
              "          google.colab.kernel.accessAllowed ? 'block' : 'none';\n",
              "\n",
              "        async function convertToInteractive(key) {\n",
              "          const element = document.querySelector('#df-aaf40ad1-d603-49c0-acc7-1f0f92a23ace');\n",
              "          const dataTable =\n",
              "            await google.colab.kernel.invokeFunction('convertToInteractive',\n",
              "                                                     [key], {});\n",
              "          if (!dataTable) return;\n",
              "\n",
              "          const docLinkHtml = 'Like what you see? Visit the ' +\n",
              "            '<a target=\"_blank\" href=https://colab.research.google.com/notebooks/data_table.ipynb>data table notebook</a>'\n",
              "            + ' to learn more about interactive tables.';\n",
              "          element.innerHTML = '';\n",
              "          dataTable['output_type'] = 'display_data';\n",
              "          await google.colab.output.renderOutput(dataTable, element);\n",
              "          const docLink = document.createElement('div');\n",
              "          docLink.innerHTML = docLinkHtml;\n",
              "          element.appendChild(docLink);\n",
              "        }\n",
              "      </script>\n",
              "    </div>\n",
              "  </div>\n",
              "  "
            ]
          },
          "metadata": {},
          "execution_count": 6
        }
      ]
    },
    {
      "cell_type": "code",
      "source": [
        "test = pd.read_parquet('test_preprocessed.parquet.gzip')\n",
        "\n",
        "print(f'test.shape = {test.shape}\\n')\n",
        "train.head(2)"
      ],
      "metadata": {
        "colab": {
          "base_uri": "https://localhost:8080/",
          "height": 147
        },
        "id": "wHEVxjBpy5dY",
        "outputId": "5fa56256-75af-48cf-c198-5a37daafe53a"
      },
      "execution_count": 7,
      "outputs": [
        {
          "output_type": "stream",
          "name": "stdout",
          "text": [
            "test.shape = (289914, 3)\n",
            "\n"
          ]
        },
        {
          "output_type": "execute_result",
          "data": {
            "text/plain": [
              "   seq_len                                         product_id  \\\n",
              "0       54  [333396, 267089, 155959, 353335, 414000, 33998...   \n",
              "1       10  [174197, 335779, 141676, 119856, 376664, 31175...   \n",
              "\n",
              "                                         category_id  \n",
              "0  [37399, 52345, 25987, 55650, 23545, 13408, 446...  \n",
              "1  [21355, 41149, 39683, 30298, 18426, 51447, 114...  "
            ],
            "text/html": [
              "\n",
              "  <div id=\"df-160d3b43-bb23-405e-b363-f870b35f884a\">\n",
              "    <div class=\"colab-df-container\">\n",
              "      <div>\n",
              "<style scoped>\n",
              "    .dataframe tbody tr th:only-of-type {\n",
              "        vertical-align: middle;\n",
              "    }\n",
              "\n",
              "    .dataframe tbody tr th {\n",
              "        vertical-align: top;\n",
              "    }\n",
              "\n",
              "    .dataframe thead th {\n",
              "        text-align: right;\n",
              "    }\n",
              "</style>\n",
              "<table border=\"1\" class=\"dataframe\">\n",
              "  <thead>\n",
              "    <tr style=\"text-align: right;\">\n",
              "      <th></th>\n",
              "      <th>seq_len</th>\n",
              "      <th>product_id</th>\n",
              "      <th>category_id</th>\n",
              "    </tr>\n",
              "  </thead>\n",
              "  <tbody>\n",
              "    <tr>\n",
              "      <th>0</th>\n",
              "      <td>54</td>\n",
              "      <td>[333396, 267089, 155959, 353335, 414000, 33998...</td>\n",
              "      <td>[37399, 52345, 25987, 55650, 23545, 13408, 446...</td>\n",
              "    </tr>\n",
              "    <tr>\n",
              "      <th>1</th>\n",
              "      <td>10</td>\n",
              "      <td>[174197, 335779, 141676, 119856, 376664, 31175...</td>\n",
              "      <td>[21355, 41149, 39683, 30298, 18426, 51447, 114...</td>\n",
              "    </tr>\n",
              "  </tbody>\n",
              "</table>\n",
              "</div>\n",
              "      <button class=\"colab-df-convert\" onclick=\"convertToInteractive('df-160d3b43-bb23-405e-b363-f870b35f884a')\"\n",
              "              title=\"Convert this dataframe to an interactive table.\"\n",
              "              style=\"display:none;\">\n",
              "        \n",
              "  <svg xmlns=\"http://www.w3.org/2000/svg\" height=\"24px\"viewBox=\"0 0 24 24\"\n",
              "       width=\"24px\">\n",
              "    <path d=\"M0 0h24v24H0V0z\" fill=\"none\"/>\n",
              "    <path d=\"M18.56 5.44l.94 2.06.94-2.06 2.06-.94-2.06-.94-.94-2.06-.94 2.06-2.06.94zm-11 1L8.5 8.5l.94-2.06 2.06-.94-2.06-.94L8.5 2.5l-.94 2.06-2.06.94zm10 10l.94 2.06.94-2.06 2.06-.94-2.06-.94-.94-2.06-.94 2.06-2.06.94z\"/><path d=\"M17.41 7.96l-1.37-1.37c-.4-.4-.92-.59-1.43-.59-.52 0-1.04.2-1.43.59L10.3 9.45l-7.72 7.72c-.78.78-.78 2.05 0 2.83L4 21.41c.39.39.9.59 1.41.59.51 0 1.02-.2 1.41-.59l7.78-7.78 2.81-2.81c.8-.78.8-2.07 0-2.86zM5.41 20L4 18.59l7.72-7.72 1.47 1.35L5.41 20z\"/>\n",
              "  </svg>\n",
              "      </button>\n",
              "      \n",
              "  <style>\n",
              "    .colab-df-container {\n",
              "      display:flex;\n",
              "      flex-wrap:wrap;\n",
              "      gap: 12px;\n",
              "    }\n",
              "\n",
              "    .colab-df-convert {\n",
              "      background-color: #E8F0FE;\n",
              "      border: none;\n",
              "      border-radius: 50%;\n",
              "      cursor: pointer;\n",
              "      display: none;\n",
              "      fill: #1967D2;\n",
              "      height: 32px;\n",
              "      padding: 0 0 0 0;\n",
              "      width: 32px;\n",
              "    }\n",
              "\n",
              "    .colab-df-convert:hover {\n",
              "      background-color: #E2EBFA;\n",
              "      box-shadow: 0px 1px 2px rgba(60, 64, 67, 0.3), 0px 1px 3px 1px rgba(60, 64, 67, 0.15);\n",
              "      fill: #174EA6;\n",
              "    }\n",
              "\n",
              "    [theme=dark] .colab-df-convert {\n",
              "      background-color: #3B4455;\n",
              "      fill: #D2E3FC;\n",
              "    }\n",
              "\n",
              "    [theme=dark] .colab-df-convert:hover {\n",
              "      background-color: #434B5C;\n",
              "      box-shadow: 0px 1px 3px 1px rgba(0, 0, 0, 0.15);\n",
              "      filter: drop-shadow(0px 1px 2px rgba(0, 0, 0, 0.3));\n",
              "      fill: #FFFFFF;\n",
              "    }\n",
              "  </style>\n",
              "\n",
              "      <script>\n",
              "        const buttonEl =\n",
              "          document.querySelector('#df-160d3b43-bb23-405e-b363-f870b35f884a button.colab-df-convert');\n",
              "        buttonEl.style.display =\n",
              "          google.colab.kernel.accessAllowed ? 'block' : 'none';\n",
              "\n",
              "        async function convertToInteractive(key) {\n",
              "          const element = document.querySelector('#df-160d3b43-bb23-405e-b363-f870b35f884a');\n",
              "          const dataTable =\n",
              "            await google.colab.kernel.invokeFunction('convertToInteractive',\n",
              "                                                     [key], {});\n",
              "          if (!dataTable) return;\n",
              "\n",
              "          const docLinkHtml = 'Like what you see? Visit the ' +\n",
              "            '<a target=\"_blank\" href=https://colab.research.google.com/notebooks/data_table.ipynb>data table notebook</a>'\n",
              "            + ' to learn more about interactive tables.';\n",
              "          element.innerHTML = '';\n",
              "          dataTable['output_type'] = 'display_data';\n",
              "          await google.colab.output.renderOutput(dataTable, element);\n",
              "          const docLink = document.createElement('div');\n",
              "          docLink.innerHTML = docLinkHtml;\n",
              "          element.appendChild(docLink);\n",
              "        }\n",
              "      </script>\n",
              "    </div>\n",
              "  </div>\n",
              "  "
            ]
          },
          "metadata": {},
          "execution_count": 7
        }
      ]
    },
    {
      "cell_type": "code",
      "source": [
        "!cp -r '/content/train_preprocessed.parquet.gzip' '/content/drive/MyDrive/ML_projects/recsys_yandex/data/02_intermediate'\n",
        "!cp -r '/content/test_preprocessed.parquet.gzip' '/content/drive/MyDrive/ML_projects/recsys_yandex/data/02_intermediate'"
      ],
      "metadata": {
        "id": "PBxEKP_j5Ip7"
      },
      "execution_count": 8,
      "outputs": []
    }
  ]
}